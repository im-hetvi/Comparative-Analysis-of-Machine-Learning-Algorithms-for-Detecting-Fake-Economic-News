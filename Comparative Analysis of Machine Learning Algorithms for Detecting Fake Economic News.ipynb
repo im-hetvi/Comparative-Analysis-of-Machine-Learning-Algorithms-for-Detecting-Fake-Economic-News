{
 "cells": [
  {
   "cell_type": "markdown",
   "id": "b11f990c",
   "metadata": {},
   "source": [
    "# Comparative Analysis of Machine Learning Algorithms for Detecting Fake Economic News"
   ]
  },
  {
   "cell_type": "markdown",
   "id": "f3395693",
   "metadata": {},
   "source": [
    "Link to the Scraped Dataset - https://mylambton-my.sharepoint.com/:x:/g/personal/c0871416_mylambton_ca/EWh7MyN1VzhLlvnFptL90pYB7Si7O6RmSKWXA4dSDwXwyw?e=AULP95"
   ]
  },
  {
   "cell_type": "markdown",
   "id": "44327b6a",
   "metadata": {},
   "source": [
    "# Table of contents"
   ]
  },
  {
   "cell_type": "markdown",
   "id": "9a12ec22",
   "metadata": {},
   "source": [
    "1. [Importing Libraries](#Libraries) \n",
    "2. [Scraping the data from website](#scraping)\n",
    "3. [Data Loading and Wrangling](#loading)\n",
    "4. [Visualization](#visualization)\n",
    "5. [Missing Values and Duplicate Handling](#missing)\n",
    "6. [Exploring the uniqe values in Target column](#explore)\n",
    "7.[Test pre-processing](#preprocess)\n",
    "8.[Training and testing ](#tnt)\n",
    "9.[Model Training, Evaluation and Prediction](#modeling)\n",
    "10.[Linear Support Vector Classification](#linearSVC)\n",
    "11.[Logistic Regression](#logi)\n",
    "12.[XGBoost](#XGBoost)\n",
    "13.[Random Forest Classifier](#Random)\n",
    "14.[SVM](#SVM)\n",
    "15.[Comparison plot](#compare)"
   ]
  },
  {
   "cell_type": "code",
   "execution_count": null,
   "id": "6a63059e",
   "metadata": {},
   "outputs": [],
   "source": [
    " # ! pip install beautifulsoup4"
   ]
  },
  {
   "cell_type": "code",
   "execution_count": null,
   "id": "02eca107",
   "metadata": {},
   "outputs": [],
   "source": [
    "# ! pip install requests"
   ]
  },
  {
   "cell_type": "code",
   "execution_count": null,
   "id": "e757c0bd",
   "metadata": {},
   "outputs": [],
   "source": [
    "# ! pip install urllib"
   ]
  },
  {
   "cell_type": "markdown",
   "id": "93227571",
   "metadata": {},
   "source": [
    "# Importing Libraries <a name='Libraries'></a>"
   ]
  },
  {
   "cell_type": "code",
   "execution_count": 101,
   "id": "525201e3",
   "metadata": {},
   "outputs": [],
   "source": [
    "from bs4 import BeautifulSoup\n",
    "import urllib.request,sys,time\n",
    "import requests\n",
    "\n",
    "import pandas as pd\n",
    "import numpy as np\n",
    "\n",
    "import seaborn as sns\n",
    "import matplotlib.pyplot as plt\n",
    "from tqdm import tqdm\n",
    "\n",
    "import re\n",
    "import nltk\n",
    "from nltk.corpus import stopwords\n",
    "from nltk.tokenize import word_tokenize\n",
    "from wordcloud import WordCloud\n",
    "\n",
    "from sklearn.model_selection import train_test_split\n",
    "from sklearn.metrics import accuracy_score, confusion_matrix, classification_report\n",
    "from sklearn.metrics import precision_recall_curve, f1_score\n",
    "\n",
    "from sklearn.feature_extraction.text import CountVectorizer\n",
    "from sklearn.feature_extraction.text import TfidfVectorizer\n",
    "\n",
    "from sklearn.model_selection import GridSearchCV\n",
    "\n",
    "from sklearn.svm import LinearSVC\n",
    "from sklearn.linear_model import LogisticRegression\n",
    "from xgboost import XGBClassifier\n",
    "import xgboost as xgb\n",
    "from sklearn.ensemble import RandomForestClassifier\n",
    "from sklearn.svm import SVC\n"
   ]
  },
  {
   "cell_type": "markdown",
   "id": "18d9a917",
   "metadata": {},
   "source": [
    "# Scraping data from a website - politifact <a name='scraping'></a>"
   ]
  },
  {
   "cell_type": "code",
   "execution_count": null,
   "id": "cdcd6d4d",
   "metadata": {},
   "outputs": [],
   "source": [
    "#created empty lists\n",
    "authors=[]\n",
    "dates=[]\n",
    "statements=[]\n",
    "source=[]\n",
    "all_info=[]\n",
    "targets=[]"
   ]
  },
  {
   "cell_type": "code",
   "execution_count": null,
   "id": "c9937cf0",
   "metadata": {},
   "outputs": [],
   "source": [
    "# number of pages to scrape\n",
    "pagesToGet = 500"
   ]
  },
  {
   "cell_type": "code",
   "execution_count": null,
   "id": "6d36c933",
   "metadata": {
    "scrolled": true
   },
   "outputs": [],
   "source": [
    "upperframe=[]\n",
    "for page in range(1,pagesToGet+1):\n",
    "    print('processing page :', page)\n",
    "    url ='https://www.politifact.com/factchecks/list/?page='+str(page)+'&category=economy'\n",
    "    page=requests.get(url) \n",
    "    soup=BeautifulSoup(page.text,'html.parser')\n",
    "    \n",
    "    # getting locations\n",
    "    statement_footer=soup.find_all('footer', attrs={'class':'m-statement__footer'}) # location of author\n",
    "    statement_qote = soup.find_all('div', attrs={'class':'m-statement__quote'}) # location of the statement\n",
    "    statement_source= soup.find_all('div',attrs={'class':'m-statement__meta'}) # location of the source\n",
    "    statement_info= soup.find_all('div',attrs={'class':'m-statement__quote'}) # location of the info\n",
    "    target = soup.find_all('div', attrs={'class':'m-statement__meter'}) # location of the target (score card)\n",
    "    \n",
    "    #looping through footer to get the author's name and date of the post\n",
    "    for i in statement_footer:\n",
    "        link1 = i.text.strip()\n",
    "        name_and_date = link1.split()\n",
    "        first_name= name_and_date[1]\n",
    "        last_name=name_and_date[2]\n",
    "        full_name=first_name+' '+last_name\n",
    "        month= name_and_date[-3]\n",
    "        day = name_and_date[-2]\n",
    "        year = name_and_date[-1]\n",
    "        date= month+' '+day+' '+year\n",
    "        dates.append(date)\n",
    "        authors.append(full_name)\n",
    "    \n",
    "    #looping through the statement_quote to get the headline of the news\n",
    "    for i in statement_qote:\n",
    "        link2=i.find_all('a')\n",
    "        statement_text=link2[0].text.strip()\n",
    "        statements.append(statement_text)\n",
    "        \n",
    "    #looping through source to get from where  the news is collected\n",
    "    for i in statement_source:\n",
    "        link3 = i.find_all('a')\n",
    "        source_text=link3[0].text.strip()\n",
    "        source.append(source_text)\n",
    "        \n",
    "    #looping through the info to get the content of each and every new article\n",
    "\n",
    "    for i in statement_info:\n",
    "        link4 = \"https://www.politifact.com\"+i.find('a').get('href')\n",
    "        link4_page=requests.get(link4)\n",
    "        soup2=BeautifulSoup(link4_page.text,'html.parser')\n",
    "        article_text=soup2.find('article',attrs={'class':'m-textblock'})\n",
    "        if article_text is not None:\n",
    "            p_element=article_text.find_all('p')\n",
    "            info=[]\n",
    "            for p in p_element:\n",
    "                text_info=p.text.strip()\n",
    "                info.append(text_info)\n",
    "            all_info.append(info)\n",
    "        else:\n",
    "            all_info.append([])        #adds empty list if the artcile text is none\n",
    "        \n",
    "\n",
    "        \n",
    "    \n",
    "    \n",
    "    \n",
    "    #looping through the target to get the status of the news i.e either true/false\n",
    "    for i in target:\n",
    "        link6 = i.find('div', attrs={'class':'c-image'}).find('img').get('alt')\n",
    "        targets.append(link6)\n",
    "\n",
    "\n",
    "    "
   ]
  },
  {
   "cell_type": "code",
   "execution_count": null,
   "id": "e4478196",
   "metadata": {},
   "outputs": [],
   "source": [
    "# creating dataframe\n",
    "data=pd.DataFrame(columns=['Author','Statement','Source','Text','Date','Target'])\n",
    "data['Author']= authors\n",
    "data['Statement']= statements\n",
    "data['Source']= source\n",
    "data['Text']= all_info\n",
    "data['Date']= dates\n",
    "data['Target']= targets"
   ]
  },
  {
   "cell_type": "code",
   "execution_count": null,
   "id": "2ecd28f6",
   "metadata": {
    "scrolled": false
   },
   "outputs": [],
   "source": [
    "data"
   ]
  },
  {
   "cell_type": "code",
   "execution_count": null,
   "id": "660097ae",
   "metadata": {},
   "outputs": [],
   "source": [
    "# storing this data to a csv file\n",
    "data.to_csv('Political fact checker.csv')"
   ]
  },
  {
   "cell_type": "markdown",
   "id": "b6087d31",
   "metadata": {},
   "source": [
    "# Data Loading and Wrangling <a name='loading'></a>"
   ]
  },
  {
   "cell_type": "code",
   "execution_count": 3,
   "id": "b730e727",
   "metadata": {},
   "outputs": [],
   "source": [
    "df=pd.read_csv('Political fact checker.csv')"
   ]
  },
  {
   "cell_type": "code",
   "execution_count": 4,
   "id": "6c796b0c",
   "metadata": {
    "scrolled": true
   },
   "outputs": [
    {
     "data": {
      "text/html": [
       "<div>\n",
       "<style scoped>\n",
       "    .dataframe tbody tr th:only-of-type {\n",
       "        vertical-align: middle;\n",
       "    }\n",
       "\n",
       "    .dataframe tbody tr th {\n",
       "        vertical-align: top;\n",
       "    }\n",
       "\n",
       "    .dataframe thead th {\n",
       "        text-align: right;\n",
       "    }\n",
       "</style>\n",
       "<table border=\"1\" class=\"dataframe\">\n",
       "  <thead>\n",
       "    <tr style=\"text-align: right;\">\n",
       "      <th></th>\n",
       "      <th>Unnamed: 0</th>\n",
       "      <th>Author</th>\n",
       "      <th>Statement</th>\n",
       "      <th>Source</th>\n",
       "      <th>Text</th>\n",
       "      <th>Date</th>\n",
       "      <th>Target</th>\n",
       "    </tr>\n",
       "  </thead>\n",
       "  <tbody>\n",
       "    <tr>\n",
       "      <th>0</th>\n",
       "      <td>0</td>\n",
       "      <td>D.L. Davis</td>\n",
       "      <td>\"Wisconsin has seen over 63 billion dollars of...</td>\n",
       "      <td>Joan Ballweg</td>\n",
       "      <td>['Gov. Tony Evers, a Democrat, has clashed for...</td>\n",
       "      <td>March 14, 2023</td>\n",
       "      <td>mostly-true</td>\n",
       "    </tr>\n",
       "    <tr>\n",
       "      <th>1</th>\n",
       "      <td>1</td>\n",
       "      <td>Matthew Crowley</td>\n",
       "      <td>“We used to rank No. 1 in the world in researc...</td>\n",
       "      <td>Joe Biden</td>\n",
       "      <td>['President Joe Biden spent the week before hi...</td>\n",
       "      <td>February 13, 2023</td>\n",
       "      <td>barely-true</td>\n",
       "    </tr>\n",
       "    <tr>\n",
       "      <th>2</th>\n",
       "      <td>2</td>\n",
       "      <td>Louis Jacobson</td>\n",
       "      <td>“We created more new jobs in two years than an...</td>\n",
       "      <td>Joe Biden</td>\n",
       "      <td>['President Joe Biden has regularly touted how...</td>\n",
       "      <td>February 7, 2023</td>\n",
       "      <td>half-true</td>\n",
       "    </tr>\n",
       "    <tr>\n",
       "      <th>3</th>\n",
       "      <td>3</td>\n",
       "      <td>Vanessa Swales</td>\n",
       "      <td>\"In 2010, (Wisconsin Republicans) inherited a ...</td>\n",
       "      <td>Devin LeMahieu</td>\n",
       "      <td>['With Gov. Tony Evers, a Democrat, poised to ...</td>\n",
       "      <td>February 3, 2023</td>\n",
       "      <td>mostly-true</td>\n",
       "    </tr>\n",
       "    <tr>\n",
       "      <th>4</th>\n",
       "      <td>4</td>\n",
       "      <td>Louis Jacobson</td>\n",
       "      <td>“Two years ago this week, 18 million people we...</td>\n",
       "      <td>Joe Biden</td>\n",
       "      <td>['President Joe Biden recently touted his admi...</td>\n",
       "      <td>January 27, 2023</td>\n",
       "      <td>half-true</td>\n",
       "    </tr>\n",
       "  </tbody>\n",
       "</table>\n",
       "</div>"
      ],
      "text/plain": [
       "   Unnamed: 0           Author  \\\n",
       "0           0       D.L. Davis   \n",
       "1           1  Matthew Crowley   \n",
       "2           2   Louis Jacobson   \n",
       "3           3   Vanessa Swales   \n",
       "4           4   Louis Jacobson   \n",
       "\n",
       "                                           Statement          Source  \\\n",
       "0  \"Wisconsin has seen over 63 billion dollars of...    Joan Ballweg   \n",
       "1  “We used to rank No. 1 in the world in researc...       Joe Biden   \n",
       "2  “We created more new jobs in two years than an...       Joe Biden   \n",
       "3  \"In 2010, (Wisconsin Republicans) inherited a ...  Devin LeMahieu   \n",
       "4  “Two years ago this week, 18 million people we...       Joe Biden   \n",
       "\n",
       "                                                Text               Date  \\\n",
       "0  ['Gov. Tony Evers, a Democrat, has clashed for...     March 14, 2023   \n",
       "1  ['President Joe Biden spent the week before hi...  February 13, 2023   \n",
       "2  ['President Joe Biden has regularly touted how...   February 7, 2023   \n",
       "3  ['With Gov. Tony Evers, a Democrat, poised to ...   February 3, 2023   \n",
       "4  ['President Joe Biden recently touted his admi...   January 27, 2023   \n",
       "\n",
       "        Target  \n",
       "0  mostly-true  \n",
       "1  barely-true  \n",
       "2    half-true  \n",
       "3  mostly-true  \n",
       "4    half-true  "
      ]
     },
     "execution_count": 4,
     "metadata": {},
     "output_type": "execute_result"
    }
   ],
   "source": [
    "df.head()"
   ]
  },
  {
   "cell_type": "code",
   "execution_count": 5,
   "id": "c7a2d106",
   "metadata": {},
   "outputs": [
    {
     "data": {
      "text/plain": [
       "half-true      428\n",
       "mostly-true    401\n",
       "false          323\n",
       "true           294\n",
       "barely-true    289\n",
       "pants-fire      81\n",
       "full-flop        6\n",
       "half-flip        5\n",
       "Name: Target, dtype: int64"
      ]
     },
     "execution_count": 5,
     "metadata": {},
     "output_type": "execute_result"
    }
   ],
   "source": [
    "df['Target'].value_counts()"
   ]
  },
  {
   "cell_type": "markdown",
   "id": "b81bb332",
   "metadata": {},
   "source": [
    "### Replacing target values by 0 (true) and 1 (false)"
   ]
  },
  {
   "cell_type": "code",
   "execution_count": 6,
   "id": "5102aaf4",
   "metadata": {},
   "outputs": [],
   "source": [
    "df['Target']=df['Target'].replace(['mostly-true','true'],0)"
   ]
  },
  {
   "cell_type": "code",
   "execution_count": 7,
   "id": "ecbb2ba3",
   "metadata": {},
   "outputs": [],
   "source": [
    "df['Target']=df['Target'].replace(['half-true','false','barely-true','pants-fire','half-flip','full-flop'],1)"
   ]
  },
  {
   "cell_type": "code",
   "execution_count": 8,
   "id": "006e53ce",
   "metadata": {},
   "outputs": [
    {
     "data": {
      "text/html": [
       "<div>\n",
       "<style scoped>\n",
       "    .dataframe tbody tr th:only-of-type {\n",
       "        vertical-align: middle;\n",
       "    }\n",
       "\n",
       "    .dataframe tbody tr th {\n",
       "        vertical-align: top;\n",
       "    }\n",
       "\n",
       "    .dataframe thead th {\n",
       "        text-align: right;\n",
       "    }\n",
       "</style>\n",
       "<table border=\"1\" class=\"dataframe\">\n",
       "  <thead>\n",
       "    <tr style=\"text-align: right;\">\n",
       "      <th></th>\n",
       "      <th>Unnamed: 0</th>\n",
       "      <th>Author</th>\n",
       "      <th>Statement</th>\n",
       "      <th>Source</th>\n",
       "      <th>Text</th>\n",
       "      <th>Date</th>\n",
       "      <th>Target</th>\n",
       "    </tr>\n",
       "  </thead>\n",
       "  <tbody>\n",
       "    <tr>\n",
       "      <th>0</th>\n",
       "      <td>0</td>\n",
       "      <td>D.L. Davis</td>\n",
       "      <td>\"Wisconsin has seen over 63 billion dollars of...</td>\n",
       "      <td>Joan Ballweg</td>\n",
       "      <td>['Gov. Tony Evers, a Democrat, has clashed for...</td>\n",
       "      <td>March 14, 2023</td>\n",
       "      <td>0</td>\n",
       "    </tr>\n",
       "    <tr>\n",
       "      <th>1</th>\n",
       "      <td>1</td>\n",
       "      <td>Matthew Crowley</td>\n",
       "      <td>“We used to rank No. 1 in the world in researc...</td>\n",
       "      <td>Joe Biden</td>\n",
       "      <td>['President Joe Biden spent the week before hi...</td>\n",
       "      <td>February 13, 2023</td>\n",
       "      <td>1</td>\n",
       "    </tr>\n",
       "    <tr>\n",
       "      <th>2</th>\n",
       "      <td>2</td>\n",
       "      <td>Louis Jacobson</td>\n",
       "      <td>“We created more new jobs in two years than an...</td>\n",
       "      <td>Joe Biden</td>\n",
       "      <td>['President Joe Biden has regularly touted how...</td>\n",
       "      <td>February 7, 2023</td>\n",
       "      <td>1</td>\n",
       "    </tr>\n",
       "    <tr>\n",
       "      <th>3</th>\n",
       "      <td>3</td>\n",
       "      <td>Vanessa Swales</td>\n",
       "      <td>\"In 2010, (Wisconsin Republicans) inherited a ...</td>\n",
       "      <td>Devin LeMahieu</td>\n",
       "      <td>['With Gov. Tony Evers, a Democrat, poised to ...</td>\n",
       "      <td>February 3, 2023</td>\n",
       "      <td>0</td>\n",
       "    </tr>\n",
       "    <tr>\n",
       "      <th>4</th>\n",
       "      <td>4</td>\n",
       "      <td>Louis Jacobson</td>\n",
       "      <td>“Two years ago this week, 18 million people we...</td>\n",
       "      <td>Joe Biden</td>\n",
       "      <td>['President Joe Biden recently touted his admi...</td>\n",
       "      <td>January 27, 2023</td>\n",
       "      <td>1</td>\n",
       "    </tr>\n",
       "  </tbody>\n",
       "</table>\n",
       "</div>"
      ],
      "text/plain": [
       "   Unnamed: 0           Author  \\\n",
       "0           0       D.L. Davis   \n",
       "1           1  Matthew Crowley   \n",
       "2           2   Louis Jacobson   \n",
       "3           3   Vanessa Swales   \n",
       "4           4   Louis Jacobson   \n",
       "\n",
       "                                           Statement          Source  \\\n",
       "0  \"Wisconsin has seen over 63 billion dollars of...    Joan Ballweg   \n",
       "1  “We used to rank No. 1 in the world in researc...       Joe Biden   \n",
       "2  “We created more new jobs in two years than an...       Joe Biden   \n",
       "3  \"In 2010, (Wisconsin Republicans) inherited a ...  Devin LeMahieu   \n",
       "4  “Two years ago this week, 18 million people we...       Joe Biden   \n",
       "\n",
       "                                                Text               Date  \\\n",
       "0  ['Gov. Tony Evers, a Democrat, has clashed for...     March 14, 2023   \n",
       "1  ['President Joe Biden spent the week before hi...  February 13, 2023   \n",
       "2  ['President Joe Biden has regularly touted how...   February 7, 2023   \n",
       "3  ['With Gov. Tony Evers, a Democrat, poised to ...   February 3, 2023   \n",
       "4  ['President Joe Biden recently touted his admi...   January 27, 2023   \n",
       "\n",
       "   Target  \n",
       "0       0  \n",
       "1       1  \n",
       "2       1  \n",
       "3       0  \n",
       "4       1  "
      ]
     },
     "execution_count": 8,
     "metadata": {},
     "output_type": "execute_result"
    }
   ],
   "source": [
    "df.head()"
   ]
  },
  {
   "cell_type": "code",
   "execution_count": 179,
   "id": "87ef7f0d",
   "metadata": {},
   "outputs": [
    {
     "data": {
      "text/plain": [
       "(1816, 2)"
      ]
     },
     "execution_count": 179,
     "metadata": {},
     "output_type": "execute_result"
    }
   ],
   "source": [
    "df.shape"
   ]
  },
  {
   "cell_type": "code",
   "execution_count": 9,
   "id": "864d449d",
   "metadata": {},
   "outputs": [],
   "source": [
    "counts=df['Author'].value_counts()"
   ]
  },
  {
   "cell_type": "code",
   "execution_count": 10,
   "id": "a4cd36c1",
   "metadata": {},
   "outputs": [],
   "source": [
    "# Create a list of sources that occur only once \n",
    "to_replace = counts[counts <= 5].index.tolist()     # choosing 10 as below that most are false statements\n",
    "\n",
    "# Replace the names of sources that occur only once with \"Other\"\n",
    "df['Author'] = df['Author'].apply(lambda x: 'Other' if x in to_replace else x)"
   ]
  },
  {
   "cell_type": "code",
   "execution_count": 11,
   "id": "7ecfd5be",
   "metadata": {
    "scrolled": false
   },
   "outputs": [
    {
     "data": {
      "text/plain": [
       "Louis Jacobson    397\n",
       "Other             260\n",
       "C. Eugene         129\n",
       "W. Gardner         78\n",
       "Tom Kertscher      63\n",
       "                 ... \n",
       "Peter Krouse        6\n",
       "Janie Har           6\n",
       "Ian K.              6\n",
       "Nancy Madsen        6\n",
       "Wes Hester          6\n",
       "Name: Author, Length: 61, dtype: int64"
      ]
     },
     "execution_count": 11,
     "metadata": {},
     "output_type": "execute_result"
    }
   ],
   "source": [
    "df['Author'].value_counts()"
   ]
  },
  {
   "cell_type": "markdown",
   "id": "27e53b83",
   "metadata": {},
   "source": [
    "# Data Visualization   <a name='visualization'></a>"
   ]
  },
  {
   "cell_type": "code",
   "execution_count": 12,
   "id": "2088455a",
   "metadata": {},
   "outputs": [
    {
     "data": {
      "text/plain": [
       "<Figure size 2500x600 with 0 Axes>"
      ]
     },
     "metadata": {},
     "output_type": "display_data"
    },
    {
     "data": {
      "image/png": "[encoded data removed]",
      "text/plain": [
       "<Figure size 640x480 with 1 Axes>"
      ]
     },
     "metadata": {},
     "output_type": "display_data"
    }
   ],
   "source": [
    "# Group the data by Source and Target, and count the number of statements\n",
    "grouped = df.groupby(['Author', 'Target']).count()['Statement'].reset_index()\n",
    "\n",
    "# Pivot the data to create a matrix with the number of statements for each source and target\n",
    "pivoted = grouped.pivot(index='Author', columns='Target', values='Statement')\n",
    "\n",
    "# Set the figure size and adjust the width of the plot and the x-axis, and increase the dpi\n",
    "plt.figure(figsize=(25, 6), dpi=100)\n",
    "pivoted.plot(kind='bar', stacked=True, width=0.8)\n",
    "plt.xlabel('Source')\n",
    "plt.ylabel('Number of Statements')\n",
    "plt.title('Statements by Source and Target')\n",
    "plt.legend(labels=['True', 'False'], title='Target', loc='upper right')\n",
    "\n",
    "# Reduce the size of the x-tick labels\n",
    "plt.xticks(fontsize=5)\n",
    "\n",
    "plt.show()\n"
   ]
  },
  {
   "cell_type": "code",
   "execution_count": 13,
   "id": "c2897b95",
   "metadata": {},
   "outputs": [
    {
     "name": "stdout",
     "output_type": "stream",
     "text": [
      "Unnamed: 0\n",
      "Author\n",
      "Statement\n",
      "Source\n",
      "Text\n",
      "Date\n",
      "Target\n"
     ]
    }
   ],
   "source": [
    "#finding the headings of the column\n",
    "for columns in df.columns:\n",
    "    print(columns)"
   ]
  },
  {
   "cell_type": "code",
   "execution_count": 14,
   "id": "f96188be",
   "metadata": {},
   "outputs": [],
   "source": [
    "# dropping unwanted columns\n",
    "df=df.drop(['Unnamed: 0','Source','Date','Author','Statement'], axis=1)"
   ]
  },
  {
   "cell_type": "code",
   "execution_count": 15,
   "id": "33d7828e",
   "metadata": {
    "scrolled": true
   },
   "outputs": [
    {
     "data": {
      "text/html": [
       "<div>\n",
       "<style scoped>\n",
       "    .dataframe tbody tr th:only-of-type {\n",
       "        vertical-align: middle;\n",
       "    }\n",
       "\n",
       "    .dataframe tbody tr th {\n",
       "        vertical-align: top;\n",
       "    }\n",
       "\n",
       "    .dataframe thead th {\n",
       "        text-align: right;\n",
       "    }\n",
       "</style>\n",
       "<table border=\"1\" class=\"dataframe\">\n",
       "  <thead>\n",
       "    <tr style=\"text-align: right;\">\n",
       "      <th></th>\n",
       "      <th>Text</th>\n",
       "      <th>Target</th>\n",
       "    </tr>\n",
       "  </thead>\n",
       "  <tbody>\n",
       "    <tr>\n",
       "      <th>0</th>\n",
       "      <td>['Gov. Tony Evers, a Democrat, has clashed for...</td>\n",
       "      <td>0</td>\n",
       "    </tr>\n",
       "    <tr>\n",
       "      <th>1</th>\n",
       "      <td>['President Joe Biden spent the week before hi...</td>\n",
       "      <td>1</td>\n",
       "    </tr>\n",
       "    <tr>\n",
       "      <th>2</th>\n",
       "      <td>['President Joe Biden has regularly touted how...</td>\n",
       "      <td>1</td>\n",
       "    </tr>\n",
       "    <tr>\n",
       "      <th>3</th>\n",
       "      <td>['With Gov. Tony Evers, a Democrat, poised to ...</td>\n",
       "      <td>0</td>\n",
       "    </tr>\n",
       "    <tr>\n",
       "      <th>4</th>\n",
       "      <td>['President Joe Biden recently touted his admi...</td>\n",
       "      <td>1</td>\n",
       "    </tr>\n",
       "  </tbody>\n",
       "</table>\n",
       "</div>"
      ],
      "text/plain": [
       "                                                Text  Target\n",
       "0  ['Gov. Tony Evers, a Democrat, has clashed for...       0\n",
       "1  ['President Joe Biden spent the week before hi...       1\n",
       "2  ['President Joe Biden has regularly touted how...       1\n",
       "3  ['With Gov. Tony Evers, a Democrat, poised to ...       0\n",
       "4  ['President Joe Biden recently touted his admi...       1"
      ]
     },
     "execution_count": 15,
     "metadata": {},
     "output_type": "execute_result"
    }
   ],
   "source": [
    "df.head()"
   ]
  },
  {
   "cell_type": "markdown",
   "id": "0608154c",
   "metadata": {},
   "source": [
    "# Missing value and duplication handling <a name='missing'></a>"
   ]
  },
  {
   "cell_type": "markdown",
   "id": "00173eaa",
   "metadata": {},
   "source": [
    "#### checking for any nulls"
   ]
  },
  {
   "cell_type": "code",
   "execution_count": 17,
   "id": "7a8d200e",
   "metadata": {},
   "outputs": [
    {
     "data": {
      "text/plain": [
       "Text      0\n",
       "Target    0\n",
       "dtype: int64"
      ]
     },
     "execution_count": 17,
     "metadata": {},
     "output_type": "execute_result"
    }
   ],
   "source": [
    "df.isnull().sum()"
   ]
  },
  {
   "cell_type": "markdown",
   "id": "915424f3",
   "metadata": {},
   "source": [
    "#### checking for duplicates and dropping them"
   ]
  },
  {
   "cell_type": "code",
   "execution_count": 18,
   "id": "81fad5ae",
   "metadata": {},
   "outputs": [
    {
     "data": {
      "text/plain": [
       "11"
      ]
     },
     "execution_count": 18,
     "metadata": {},
     "output_type": "execute_result"
    }
   ],
   "source": [
    "df.duplicated().sum()"
   ]
  },
  {
   "cell_type": "code",
   "execution_count": 19,
   "id": "406d1326",
   "metadata": {},
   "outputs": [],
   "source": [
    "df.drop_duplicates(inplace=True)"
   ]
  },
  {
   "cell_type": "code",
   "execution_count": 20,
   "id": "d1ec6d17",
   "metadata": {},
   "outputs": [
    {
     "data": {
      "text/plain": [
       "(1816, 2)"
      ]
     },
     "execution_count": 20,
     "metadata": {},
     "output_type": "execute_result"
    }
   ],
   "source": [
    "df.shape"
   ]
  },
  {
   "cell_type": "markdown",
   "id": "7081d3b3",
   "metadata": {},
   "source": [
    "#### Shuffling the data to prevent model from getting biased"
   ]
  },
  {
   "cell_type": "code",
   "execution_count": 21,
   "id": "9ee13705",
   "metadata": {},
   "outputs": [],
   "source": [
    "df=df.sample(frac=1)\n",
    "df.reset_index(inplace=True)\n",
    "df.drop(['index'],axis=1,inplace=True)"
   ]
  },
  {
   "cell_type": "markdown",
   "id": "67698036",
   "metadata": {},
   "source": [
    "# Exploring the unique values in Target column <a name='explore'></a>"
   ]
  },
  {
   "cell_type": "code",
   "execution_count": 22,
   "id": "30fb1bf2",
   "metadata": {
    "scrolled": false
   },
   "outputs": [
    {
     "data": {
      "image/png": "[encoded data removed]",
      "text/plain": [
       "<Figure size 640x480 with 1 Axes>"
      ]
     },
     "metadata": {},
     "output_type": "display_data"
    }
   ],
   "source": [
    "# Count the number of statements for each target\n",
    "counts = df['Target'].value_counts()\n",
    "\n",
    "# Create a pie chart\n",
    "plt.pie(counts.values, labels=['fake', 'real'], autopct='%1.1f%%')\n",
    "plt.title('Ratio of Real and Fake news by Target')\n",
    "\n",
    "# Show the pie chart\n",
    "plt.show()\n",
    "# 0 = Real News\n",
    "# 1 = Fake News"
   ]
  },
  {
   "cell_type": "code",
   "execution_count": 23,
   "id": "443c397a",
   "metadata": {},
   "outputs": [],
   "source": [
    "# ! pip install wordcloud"
   ]
  },
  {
   "cell_type": "markdown",
   "id": "60d54b3d",
   "metadata": {},
   "source": [
    "# Text pre-processing <a name= 'preprocess'></a>"
   ]
  },
  {
   "cell_type": "code",
   "execution_count": 24,
   "id": "91e70621",
   "metadata": {},
   "outputs": [
    {
     "data": {
      "text/plain": [
       "4411"
      ]
     },
     "execution_count": 24,
     "metadata": {},
     "output_type": "execute_result"
    }
   ],
   "source": [
    "len(df['Text'][0])"
   ]
  },
  {
   "cell_type": "markdown",
   "id": "a4e45c01",
   "metadata": {},
   "source": [
    "### Removing all the stopwords, punctuations and any irrelevant spaces from the text"
   ]
  },
  {
   "cell_type": "code",
   "execution_count": 25,
   "id": "64fe237b",
   "metadata": {},
   "outputs": [],
   "source": [
    "def preprocess_text(text_data):\n",
    "    preprocessed_text = []\n",
    "      \n",
    "    for sentence in tqdm(text_data):\n",
    "        sentence = re.sub(r'[^\\w\\s]', '', sentence)    #removes all non-word and non-space characters\n",
    "        # converts the string into lower case, splits it to tokenize, removes stopwords and later on joins it\n",
    "        preprocessed_text.append(' '.join(token.lower()            \n",
    "                                  for token in str(sentence).split()\n",
    "                                  if token not in stopwords.words('english')))\n",
    "  \n",
    "    return preprocessed_text\n",
    "        "
   ]
  },
  {
   "cell_type": "code",
   "execution_count": 26,
   "id": "a803a79d",
   "metadata": {},
   "outputs": [
    {
     "name": "stderr",
     "output_type": "stream",
     "text": [
      "100%|██████████████████████████████████████████████████████████████████████████████| 1816/1816 [06:01<00:00,  5.03it/s]\n"
     ]
    }
   ],
   "source": [
    "preprocessed_review = preprocess_text(df['Text'].astype(str).values)\n",
    "df['Text'] = preprocessed_review"
   ]
  },
  {
   "cell_type": "code",
   "execution_count": 27,
   "id": "84bdeda7",
   "metadata": {},
   "outputs": [
    {
     "data": {
      "text/plain": [
       "3256"
      ]
     },
     "execution_count": 27,
     "metadata": {},
     "output_type": "execute_result"
    }
   ],
   "source": [
    "len(df['Text'][0])"
   ]
  },
  {
   "cell_type": "markdown",
   "id": "6e6b5034",
   "metadata": {},
   "source": [
    "### Bag of words "
   ]
  },
  {
   "cell_type": "markdown",
   "id": "34e2ce55",
   "metadata": {},
   "source": [
    "####  ploting bargraph of the top 20 most frequent words."
   ]
  },
  {
   "cell_type": "code",
   "execution_count": 28,
   "id": "5f81a0eb",
   "metadata": {},
   "outputs": [],
   "source": [
    "def get_top_n_words (corpus,n=None):\n",
    "    vec = CountVectorizer().fit(corpus)\n",
    "    bag_of_words = vec.transform(corpus)\n",
    "    sum_words = bag_of_words.sum(axis=0)\n",
    "    words_freq=[(word,sum_words[0,idx]) for word,idx in vec.vocabulary_.items()]\n",
    "    words_freq = sorted(words_freq, key=lambda x: x[1], reverse=True)\n",
    "    return words_freq[:n]"
   ]
  },
  {
   "cell_type": "code",
   "execution_count": 29,
   "id": "960df225",
   "metadata": {},
   "outputs": [],
   "source": [
    "common_words = get_top_n_words(df['Text'],20)"
   ]
  },
  {
   "cell_type": "code",
   "execution_count": 30,
   "id": "236e3be1",
   "metadata": {},
   "outputs": [
    {
     "data": {
      "text/plain": [
       "<AxesSubplot: title={'center': 'Bar Chart of top words frequency'}, xlabel='Top Words', ylabel='Count'>"
      ]
     },
     "execution_count": 30,
     "metadata": {},
     "output_type": "execute_result"
    },
    {
     "data": {
      "image/png": "[encoded data removed]",
      "text/plain": [
       "<Figure size 1000x600 with 1 Axes>"
      ]
     },
     "metadata": {},
     "output_type": "display_data"
    }
   ],
   "source": [
    "df1= pd.DataFrame(common_words,columns=['Review','Count'])\n",
    "df1.groupby('Review').sum()['Count'].sort_values(ascending=False).plot(kind='bar', figsize=(10,6),xlabel=\"Top Words\",ylabel=\"Count\", title='Bar Chart of top words frequency')"
   ]
  },
  {
   "cell_type": "markdown",
   "id": "708fd76a",
   "metadata": {},
   "source": [
    "##  Training and testing  <a name='tnt'></a>"
   ]
  },
  {
   "cell_type": "code",
   "execution_count": 60,
   "id": "2448d3f0",
   "metadata": {},
   "outputs": [],
   "source": [
    "# Split data into training and testing sets\n",
    "x_train,x_test,y_train,y_test=train_test_split(df['Text'], df['Target'], test_size=0.3)"
   ]
  },
  {
   "cell_type": "markdown",
   "id": "884e759b",
   "metadata": {},
   "source": [
    "#### Converting training data into vectors"
   ]
  },
  {
   "cell_type": "code",
   "execution_count": 61,
   "id": "ee202580",
   "metadata": {},
   "outputs": [],
   "source": [
    "# Initialize a TfidfVectorizer object\n",
    "vectorization = TfidfVectorizer()\n",
    "\n",
    "# Transform the training and testing data into feature vectors\n",
    "x_train = vectorization.fit_transform(x_train)\n",
    "x_test = vectorization.transform(x_test)"
   ]
  },
  {
   "cell_type": "markdown",
   "id": "fcc0906c",
   "metadata": {},
   "source": [
    "#  Model Training, Evaluation and Prediction <a name ='modeling'></a>"
   ]
  },
  {
   "cell_type": "markdown",
   "id": "c7c24f91",
   "metadata": {},
   "source": [
    "##  (a) Linear Support Vector Classification  <a name='linearSVC'></a>"
   ]
  },
  {
   "cell_type": "markdown",
   "id": "7d4d01c5",
   "metadata": {},
   "source": [
    "#### Tunning hyperparameters - finding optimum value for c for regularization"
   ]
  },
  {
   "cell_type": "code",
   "execution_count": 62,
   "id": "34b1f1b8",
   "metadata": {},
   "outputs": [
    {
     "name": "stdout",
     "output_type": "stream",
     "text": [
      "Best C: 10\n",
      "Test Accuracy: 0.707308939323761\n"
     ]
    }
   ],
   "source": [
    "# Define the range of values to test for C\n",
    "C_range = [0.001, 0.01, 0.1, 1, 10, 100]\n",
    "\n",
    "# Define the parameters to search over\n",
    "param_grid = {'C': C_range}\n",
    "\n",
    "# Create a GridSearchCV object\n",
    "grid = GridSearchCV(LinearSVC(penalty='l2'), param_grid, cv=5, scoring='accuracy')\n",
    "\n",
    "# Fit the GridSearchCV object to the training data\n",
    "grid.fit(x_train, y_train)\n",
    "\n",
    "# Print the best value of C and the corresponding test accuracy\n",
    "print(\"Best C:\", grid.best_params_['C'])\n",
    "print(\"Test Accuracy:\", grid.best_score_)\n"
   ]
  },
  {
   "cell_type": "markdown",
   "id": "fdd75625",
   "metadata": {},
   "source": [
    "#### To avoid overfitting we are using L2 regularization with  regularization strength c as 10"
   ]
  },
  {
   "cell_type": "code",
   "execution_count": 63,
   "id": "433b73a4",
   "metadata": {},
   "outputs": [
    {
     "data": {
      "text/html": [
       "<style>#sk-container-id-7 {color: black;background-color: white;}#sk-container-id-7 pre{padding: 0;}#sk-container-id-7 div.sk-toggleable {background-color: white;}#sk-container-id-7 label.sk-toggleable__label {cursor: pointer;display: block;width: 100%;margin-bottom: 0;padding: 0.3em;box-sizing: border-box;text-align: center;}#sk-container-id-7 label.sk-toggleable__label-arrow:before {content: \"▸\";float: left;margin-right: 0.25em;color: #696969;}#sk-container-id-7 label.sk-toggleable__label-arrow:hover:before {color: black;}#sk-container-id-7 div.sk-estimator:hover label.sk-toggleable__label-arrow:before {color: black;}#sk-container-id-7 div.sk-toggleable__content {max-height: 0;max-width: 0;overflow: hidden;text-align: left;background-color: #f0f8ff;}#sk-container-id-7 div.sk-toggleable__content pre {margin: 0.2em;color: black;border-radius: 0.25em;background-color: #f0f8ff;}#sk-container-id-7 input.sk-toggleable__control:checked~div.sk-toggleable__content {max-height: 200px;max-width: 100%;overflow: auto;}#sk-container-id-7 input.sk-toggleable__control:checked~label.sk-toggleable__label-arrow:before {content: \"▾\";}#sk-container-id-7 div.sk-estimator input.sk-toggleable__control:checked~label.sk-toggleable__label {background-color: #d4ebff;}#sk-container-id-7 div.sk-label input.sk-toggleable__control:checked~label.sk-toggleable__label {background-color: #d4ebff;}#sk-container-id-7 input.sk-hidden--visually {border: 0;clip: rect(1px 1px 1px 1px);clip: rect(1px, 1px, 1px, 1px);height: 1px;margin: -1px;overflow: hidden;padding: 0;position: absolute;width: 1px;}#sk-container-id-7 div.sk-estimator {font-family: monospace;background-color: #f0f8ff;border: 1px dotted black;border-radius: 0.25em;box-sizing: border-box;margin-bottom: 0.5em;}#sk-container-id-7 div.sk-estimator:hover {background-color: #d4ebff;}#sk-container-id-7 div.sk-parallel-item::after {content: \"\";width: 100%;border-bottom: 1px solid gray;flex-grow: 1;}#sk-container-id-7 div.sk-label:hover label.sk-toggleable__label {background-color: #d4ebff;}#sk-container-id-7 div.sk-serial::before {content: \"\";position: absolute;border-left: 1px solid gray;box-sizing: border-box;top: 0;bottom: 0;left: 50%;z-index: 0;}#sk-container-id-7 div.sk-serial {display: flex;flex-direction: column;align-items: center;background-color: white;padding-right: 0.2em;padding-left: 0.2em;position: relative;}#sk-container-id-7 div.sk-item {position: relative;z-index: 1;}#sk-container-id-7 div.sk-parallel {display: flex;align-items: stretch;justify-content: center;background-color: white;position: relative;}#sk-container-id-7 div.sk-item::before, #sk-container-id-7 div.sk-parallel-item::before {content: \"\";position: absolute;border-left: 1px solid gray;box-sizing: border-box;top: 0;bottom: 0;left: 50%;z-index: -1;}#sk-container-id-7 div.sk-parallel-item {display: flex;flex-direction: column;z-index: 1;position: relative;background-color: white;}#sk-container-id-7 div.sk-parallel-item:first-child::after {align-self: flex-end;width: 50%;}#sk-container-id-7 div.sk-parallel-item:last-child::after {align-self: flex-start;width: 50%;}#sk-container-id-7 div.sk-parallel-item:only-child::after {width: 0;}#sk-container-id-7 div.sk-dashed-wrapped {border: 1px dashed gray;margin: 0 0.4em 0.5em 0.4em;box-sizing: border-box;padding-bottom: 0.4em;background-color: white;}#sk-container-id-7 div.sk-label label {font-family: monospace;font-weight: bold;display: inline-block;line-height: 1.2em;}#sk-container-id-7 div.sk-label-container {text-align: center;}#sk-container-id-7 div.sk-container {/* jupyter's `normalize.less` sets `[hidden] { display: none; }` but bootstrap.min.css set `[hidden] { display: none !important; }` so we also need the `!important` here to be able to override the default hidden behavior on the sphinx rendered scikit-learn.org. See: https://github.com/scikit-learn/scikit-learn/issues/21755 */display: inline-block !important;position: relative;}#sk-container-id-7 div.sk-text-repr-fallback {display: none;}</style><div id=\"sk-container-id-7\" class=\"sk-top-container\"><div class=\"sk-text-repr-fallback\"><pre>LinearSVC(C=10)</pre><b>In a Jupyter environment, please rerun this cell to show the HTML representation or trust the notebook. <br />On GitHub, the HTML representation is unable to render, please try loading this page with nbviewer.org.</b></div><div class=\"sk-container\" hidden><div class=\"sk-item\"><div class=\"sk-estimator sk-toggleable\"><input class=\"sk-toggleable__control sk-hidden--visually\" id=\"sk-estimator-id-7\" type=\"checkbox\" checked><label for=\"sk-estimator-id-7\" class=\"sk-toggleable__label sk-toggleable__label-arrow\">LinearSVC</label><div class=\"sk-toggleable__content\"><pre>LinearSVC(C=10)</pre></div></div></div></div></div>"
      ],
      "text/plain": [
       "LinearSVC(C=10)"
      ]
     },
     "execution_count": 63,
     "metadata": {},
     "output_type": "execute_result"
    }
   ],
   "source": [
    "# Initialize a LinearSVC object with L2 regularization\n",
    "model_SVC = LinearSVC(penalty='l2', C=10)\n",
    "# Train the model on the training data\n",
    "model_SVC.fit(x_train, y_train)"
   ]
  },
  {
   "cell_type": "code",
   "execution_count": 122,
   "id": "ff9d551a",
   "metadata": {},
   "outputs": [
    {
     "name": "stdout",
     "output_type": "stream",
     "text": [
      "Accuracy: 74.86 %\n"
     ]
    },
    {
     "data": {
      "image/png": "[encoded data removed]",
      "text/plain": [
       "<Figure size 640x480 with 2 Axes>"
      ]
     },
     "metadata": {},
     "output_type": "display_data"
    },
    {
     "name": "stdout",
     "output_type": "stream",
     "text": [
      "Classification Report:\n",
      " {'0': {'precision': 0.6647727272727273, 'recall': 0.6, 'f1-score': 0.6307277628032345, 'support': 195}, '1': {'precision': 0.7886178861788617, 'recall': 0.8314285714285714, 'f1-score': 0.8094575799721836, 'support': 350}, 'accuracy': 0.7486238532110092, 'macro avg': {'precision': 0.7266953067257945, 'recall': 0.7157142857142857, 'f1-score': 0.720092671387709, 'support': 545}, 'weighted avg': {'precision': 0.7443063155610705, 'recall': 0.7486238532110092, 'f1-score': 0.7455083793337522, 'support': 545}}\n"
     ]
    }
   ],
   "source": [
    "# Test the model on the testing data\n",
    "y_test_pred_SVC = model_SVC.predict(x_test)\n",
    "Accuracy_SVC = round((accuracy_score(y_test, y_test_pred_SVC))*100,2)\n",
    "print('Accuracy:', Accuracy_SVC,\"%\")\n",
    "\n",
    "confusion = confusion_matrix(y_test, y_test_pred_SVC)\n",
    "\n",
    "\n",
    "sns.heatmap(confusion, annot=True, cmap='Blues', fmt='g')\n",
    "plt.xlabel('Predicted labels')\n",
    "plt.ylabel('True labels')\n",
    "plt.show()\n",
    "\n",
    "report_SVC= classification_report(y_test, y_test_pred_SVC, output_dict=True , zero_division=0)\n",
    "\n",
    "print('Classification Report:\\n', report_SVC)"
   ]
  },
  {
   "cell_type": "markdown",
   "id": "a2901873",
   "metadata": {},
   "source": [
    "## (b) Logistic Regression <a name='logi'></a>"
   ]
  },
  {
   "cell_type": "code",
   "execution_count": 66,
   "id": "c7186b74",
   "metadata": {},
   "outputs": [
    {
     "name": "stderr",
     "output_type": "stream",
     "text": [
      "C:\\Users\\aanch\\AppData\\Local\\Programs\\Python\\Python310\\lib\\site-packages\\sklearn\\model_selection\\_validation.py:378: FitFailedWarning: \n",
      "25 fits failed out of a total of 50.\n",
      "The score on these train-test partitions for these parameters will be set to nan.\n",
      "If these failures are not expected, you can try to debug them by setting error_score='raise'.\n",
      "\n",
      "Below are more details about the failures:\n",
      "--------------------------------------------------------------------------------\n",
      "25 fits failed with the following error:\n",
      "Traceback (most recent call last):\n",
      "  File \"C:\\Users\\aanch\\AppData\\Local\\Programs\\Python\\Python310\\lib\\site-packages\\sklearn\\model_selection\\_validation.py\", line 686, in _fit_and_score\n",
      "    estimator.fit(X_train, y_train, **fit_params)\n",
      "  File \"C:\\Users\\aanch\\AppData\\Local\\Programs\\Python\\Python310\\lib\\site-packages\\sklearn\\linear_model\\_logistic.py\", line 1091, in fit\n",
      "    solver = _check_solver(self.solver, self.penalty, self.dual)\n",
      "  File \"C:\\Users\\aanch\\AppData\\Local\\Programs\\Python\\Python310\\lib\\site-packages\\sklearn\\linear_model\\_logistic.py\", line 61, in _check_solver\n",
      "    raise ValueError(\n",
      "ValueError: Solver lbfgs supports only 'l2' or 'none' penalties, got l1 penalty.\n",
      "\n",
      "  warnings.warn(some_fits_failed_message, FitFailedWarning)\n",
      "C:\\Users\\aanch\\AppData\\Local\\Programs\\Python\\Python310\\lib\\site-packages\\sklearn\\model_selection\\_search.py:953: UserWarning: One or more of the test scores are non-finite: [       nan 0.6081828         nan 0.6081828         nan 0.6081828\n",
      "        nan 0.65067161        nan 0.69471051]\n",
      "  warnings.warn(\n"
     ]
    },
    {
     "name": "stdout",
     "output_type": "stream",
     "text": [
      "Best hyperparameters found:\n",
      "{'C': 10, 'penalty': 'l2'}\n"
     ]
    }
   ],
   "source": [
    "# Define the parameter grid to search over\n",
    "param_grid = {\n",
    "    'penalty': ['l1', 'l2'],\n",
    "    'C': [0.001, 0.01, 0.1, 1, 10]\n",
    "}\n",
    "\n",
    "# Initialize a LogisticRegression object\n",
    "model_Logistic = LogisticRegression()\n",
    "\n",
    "# Create a GridSearchCV object with 5-fold cross-validation\n",
    "grid_search = GridSearchCV(model_Logistic, param_grid, cv=5)\n",
    "\n",
    "# Fit the GridSearchCV object to the training data\n",
    "grid_search.fit(x_train, y_train)\n",
    "\n",
    "# Print the best hyperparameters found\n",
    "print(\"Best hyperparameters found:\")\n",
    "print(grid_search.best_params_)"
   ]
  },
  {
   "cell_type": "markdown",
   "id": "e94238a5",
   "metadata": {},
   "source": [
    "#### To avoid overfitting we are using L2 regularization with  regularization strength c as 10"
   ]
  },
  {
   "cell_type": "code",
   "execution_count": 67,
   "id": "7078e573",
   "metadata": {},
   "outputs": [
    {
     "data": {
      "text/html": [
       "<style>#sk-container-id-8 {color: black;background-color: white;}#sk-container-id-8 pre{padding: 0;}#sk-container-id-8 div.sk-toggleable {background-color: white;}#sk-container-id-8 label.sk-toggleable__label {cursor: pointer;display: block;width: 100%;margin-bottom: 0;padding: 0.3em;box-sizing: border-box;text-align: center;}#sk-container-id-8 label.sk-toggleable__label-arrow:before {content: \"▸\";float: left;margin-right: 0.25em;color: #696969;}#sk-container-id-8 label.sk-toggleable__label-arrow:hover:before {color: black;}#sk-container-id-8 div.sk-estimator:hover label.sk-toggleable__label-arrow:before {color: black;}#sk-container-id-8 div.sk-toggleable__content {max-height: 0;max-width: 0;overflow: hidden;text-align: left;background-color: #f0f8ff;}#sk-container-id-8 div.sk-toggleable__content pre {margin: 0.2em;color: black;border-radius: 0.25em;background-color: #f0f8ff;}#sk-container-id-8 input.sk-toggleable__control:checked~div.sk-toggleable__content {max-height: 200px;max-width: 100%;overflow: auto;}#sk-container-id-8 input.sk-toggleable__control:checked~label.sk-toggleable__label-arrow:before {content: \"▾\";}#sk-container-id-8 div.sk-estimator input.sk-toggleable__control:checked~label.sk-toggleable__label {background-color: #d4ebff;}#sk-container-id-8 div.sk-label input.sk-toggleable__control:checked~label.sk-toggleable__label {background-color: #d4ebff;}#sk-container-id-8 input.sk-hidden--visually {border: 0;clip: rect(1px 1px 1px 1px);clip: rect(1px, 1px, 1px, 1px);height: 1px;margin: -1px;overflow: hidden;padding: 0;position: absolute;width: 1px;}#sk-container-id-8 div.sk-estimator {font-family: monospace;background-color: #f0f8ff;border: 1px dotted black;border-radius: 0.25em;box-sizing: border-box;margin-bottom: 0.5em;}#sk-container-id-8 div.sk-estimator:hover {background-color: #d4ebff;}#sk-container-id-8 div.sk-parallel-item::after {content: \"\";width: 100%;border-bottom: 1px solid gray;flex-grow: 1;}#sk-container-id-8 div.sk-label:hover label.sk-toggleable__label {background-color: #d4ebff;}#sk-container-id-8 div.sk-serial::before {content: \"\";position: absolute;border-left: 1px solid gray;box-sizing: border-box;top: 0;bottom: 0;left: 50%;z-index: 0;}#sk-container-id-8 div.sk-serial {display: flex;flex-direction: column;align-items: center;background-color: white;padding-right: 0.2em;padding-left: 0.2em;position: relative;}#sk-container-id-8 div.sk-item {position: relative;z-index: 1;}#sk-container-id-8 div.sk-parallel {display: flex;align-items: stretch;justify-content: center;background-color: white;position: relative;}#sk-container-id-8 div.sk-item::before, #sk-container-id-8 div.sk-parallel-item::before {content: \"\";position: absolute;border-left: 1px solid gray;box-sizing: border-box;top: 0;bottom: 0;left: 50%;z-index: -1;}#sk-container-id-8 div.sk-parallel-item {display: flex;flex-direction: column;z-index: 1;position: relative;background-color: white;}#sk-container-id-8 div.sk-parallel-item:first-child::after {align-self: flex-end;width: 50%;}#sk-container-id-8 div.sk-parallel-item:last-child::after {align-self: flex-start;width: 50%;}#sk-container-id-8 div.sk-parallel-item:only-child::after {width: 0;}#sk-container-id-8 div.sk-dashed-wrapped {border: 1px dashed gray;margin: 0 0.4em 0.5em 0.4em;box-sizing: border-box;padding-bottom: 0.4em;background-color: white;}#sk-container-id-8 div.sk-label label {font-family: monospace;font-weight: bold;display: inline-block;line-height: 1.2em;}#sk-container-id-8 div.sk-label-container {text-align: center;}#sk-container-id-8 div.sk-container {/* jupyter's `normalize.less` sets `[hidden] { display: none; }` but bootstrap.min.css set `[hidden] { display: none !important; }` so we also need the `!important` here to be able to override the default hidden behavior on the sphinx rendered scikit-learn.org. See: https://github.com/scikit-learn/scikit-learn/issues/21755 */display: inline-block !important;position: relative;}#sk-container-id-8 div.sk-text-repr-fallback {display: none;}</style><div id=\"sk-container-id-8\" class=\"sk-top-container\"><div class=\"sk-text-repr-fallback\"><pre>LogisticRegression(C=10)</pre><b>In a Jupyter environment, please rerun this cell to show the HTML representation or trust the notebook. <br />On GitHub, the HTML representation is unable to render, please try loading this page with nbviewer.org.</b></div><div class=\"sk-container\" hidden><div class=\"sk-item\"><div class=\"sk-estimator sk-toggleable\"><input class=\"sk-toggleable__control sk-hidden--visually\" id=\"sk-estimator-id-8\" type=\"checkbox\" checked><label for=\"sk-estimator-id-8\" class=\"sk-toggleable__label sk-toggleable__label-arrow\">LogisticRegression</label><div class=\"sk-toggleable__content\"><pre>LogisticRegression(C=10)</pre></div></div></div></div></div>"
      ],
      "text/plain": [
       "LogisticRegression(C=10)"
      ]
     },
     "execution_count": 67,
     "metadata": {},
     "output_type": "execute_result"
    }
   ],
   "source": [
    "# Initialize a LogisticRegression object with L2 regularization\n",
    "model_Logistic = LogisticRegression(penalty='l2', C=10)\n",
    "# Train the model on the training data\n",
    "model_Logistic.fit(x_train, y_train)"
   ]
  },
  {
   "cell_type": "code",
   "execution_count": 123,
   "id": "70eb9c69",
   "metadata": {},
   "outputs": [
    {
     "name": "stdout",
     "output_type": "stream",
     "text": [
      "Accuracy: 73.39 %\n"
     ]
    },
    {
     "data": {
      "image/png": "[encoded data removed]",
      "text/plain": [
       "<Figure size 640x480 with 2 Axes>"
      ]
     },
     "metadata": {},
     "output_type": "display_data"
    },
    {
     "name": "stdout",
     "output_type": "stream",
     "text": [
      "Classification Report:\n",
      " {'0': {'precision': 0.676056338028169, 'recall': 0.49230769230769234, 'f1-score': 0.56973293768546, 'support': 195}, '1': {'precision': 0.7543424317617866, 'recall': 0.8685714285714285, 'f1-score': 0.8074369189907038, 'support': 350}, 'accuracy': 0.7339449541284404, 'macro avg': {'precision': 0.7151993848949778, 'recall': 0.6804395604395604, 'f1-score': 0.6885849283380818, 'support': 545}, 'weighted avg': {'precision': 0.726331811068107, 'recall': 0.7339449541284404, 'f1-score': 0.7223868706337817, 'support': 545}}\n"
     ]
    }
   ],
   "source": [
    "# Test the model on the testing data\n",
    "y_test_pred1 = model_Logistic.predict(x_test)\n",
    "\n",
    "Accuracy_Logi = round((accuracy_score(y_test, y_test_pred1))*100,2)\n",
    "print('Accuracy:', Accuracy_Logi,\"%\")\n",
    "\n",
    "confusion = confusion_matrix(y_test, y_test_pred1)\n",
    "\n",
    "\n",
    "sns.heatmap(confusion, annot=True, cmap='Blues', fmt='g')\n",
    "plt.xlabel('Predicted labels')\n",
    "plt.ylabel('True labels')\n",
    "plt.show()\n",
    "\n",
    "report_Logi = classification_report(y_test, y_test_pred1, output_dict=True , zero_division=0)\n",
    "print('Classification Report:\\n', report_Logi)"
   ]
  },
  {
   "cell_type": "markdown",
   "id": "98c5386e",
   "metadata": {},
   "source": [
    "## (c) XGBoost  <a name='XGBoost'></a>"
   ]
  },
  {
   "cell_type": "code",
   "execution_count": null,
   "id": "93868b66",
   "metadata": {},
   "outputs": [],
   "source": [
    "# !pip install xgboost"
   ]
  },
  {
   "cell_type": "markdown",
   "id": "09e72c94",
   "metadata": {},
   "source": [
    "#### Tunning Hyperparameters"
   ]
  },
  {
   "cell_type": "code",
   "execution_count": 70,
   "id": "2323706e",
   "metadata": {},
   "outputs": [
    {
     "name": "stdout",
     "output_type": "stream",
     "text": [
      "Best learning rate: 0.1\n",
      "Test Accuracy: 0.9040080284082137\n"
     ]
    }
   ],
   "source": [
    "# Define the range of values to test for learning_rate, max_depth, and n_estimators\n",
    "learning_rate_range = [0.01, 0.1, 0.5, 1]\n",
    "\n",
    "\n",
    "# Define the parameters to search over\n",
    "param_grid = {\n",
    "    'learning_rate': learning_rate_range,\n",
    "\n",
    "}\n",
    "\n",
    "# Create a GridSearchCV object\n",
    "grid = GridSearchCV(XGBClassifier(), param_grid, cv=5, scoring='accuracy')\n",
    "\n",
    "# Fit the GridSearchCV object to the training data\n",
    "grid.fit(x_train, y_train)\n",
    "\n",
    "# Print the best values of learning_rate, max_depth, n_estimators, and the corresponding test accuracy\n",
    "print(\"Best learning rate:\", grid.best_params_['learning_rate'])\n",
    "\n",
    "print(\"Test Accuracy:\", grid.best_score_)\n"
   ]
  },
  {
   "cell_type": "code",
   "execution_count": 124,
   "id": "3ce498a2",
   "metadata": {},
   "outputs": [
    {
     "name": "stdout",
     "output_type": "stream",
     "text": [
      "Accuracy: 90.83 %\n"
     ]
    },
    {
     "data": {
      "image/png": "[encoded data removed]",
      "text/plain": [
       "<Figure size 640x480 with 2 Axes>"
      ]
     },
     "metadata": {},
     "output_type": "display_data"
    },
    {
     "name": "stdout",
     "output_type": "stream",
     "text": [
      "Classification Report:\n",
      " {'0': {'precision': 0.8918918918918919, 'recall': 0.8461538461538461, 'f1-score': 0.868421052631579, 'support': 195}, '1': {'precision': 0.9166666666666666, 'recall': 0.9428571428571428, 'f1-score': 0.9295774647887323, 'support': 350}, 'accuracy': 0.908256880733945, 'macro avg': {'precision': 0.9042792792792793, 'recall': 0.8945054945054944, 'f1-score': 0.8989992587101556, 'support': 545}, 'weighted avg': {'precision': 0.9078022977105545, 'recall': 0.908256880733945, 'f1-score': 0.907695812732503, 'support': 545}}\n"
     ]
    }
   ],
   "source": [
    "# Initialize an XGBoost classifier with L1 and L2 regularization\n",
    "model_XGBoost = xgb.XGBClassifier(reg_lambda=0.1, alpha=0.5)\n",
    "\n",
    "# Train the model on the training data\n",
    "model_XGBoost.fit(x_train, y_train)\n",
    "\n",
    "\n",
    "# Test the model on the testing data\n",
    "y_test_xgboost = model_XGBoost.predict(x_test)\n",
    "\n",
    "\n",
    "Accuracy_xgboost = round((accuracy_score(y_test, y_test_xgboost))*100,2)\n",
    "print('Accuracy:', Accuracy_xgboost,\"%\")\n",
    "\n",
    "confusion = confusion_matrix(y_test, y_test_xgboost)\n",
    "\n",
    "\n",
    "sns.heatmap(confusion, annot=True, cmap='Blues', fmt='g')\n",
    "plt.xlabel('Predicted labels')\n",
    "plt.ylabel('True labels')\n",
    "plt.show()\n",
    "\n",
    "report_XGBoost = classification_report(y_test, y_test_xgboost, output_dict=True , zero_division=0)\n",
    "print('Classification Report:\\n',report_XGBoost )\n",
    "\n"
   ]
  },
  {
   "cell_type": "markdown",
   "id": "7e626a83",
   "metadata": {},
   "source": [
    "## (d) Random Forest Classifier <a name='Random'></a>"
   ]
  },
  {
   "cell_type": "code",
   "execution_count": 75,
   "id": "4b545ad4",
   "metadata": {},
   "outputs": [],
   "source": [
    "rfc = RandomForestClassifier(n_estimators=50, max_depth=20, min_samples_split=5, min_samples_leaf=1)"
   ]
  },
  {
   "cell_type": "markdown",
   "id": "98e82a24",
   "metadata": {},
   "source": [
    "#### Tune hyperparameters "
   ]
  },
  {
   "cell_type": "code",
   "execution_count": 74,
   "id": "5ef78e6d",
   "metadata": {},
   "outputs": [
    {
     "name": "stdout",
     "output_type": "stream",
     "text": [
      "Best hyperparameters: {'max_depth': 20, 'min_samples_leaf': 1, 'min_samples_split': 5, 'n_estimators': 50}\n"
     ]
    }
   ],
   "source": [
    "param_grid = {\n",
    "    'n_estimators': [50, 100, 200],\n",
    "    'max_depth': [5, 10, 20],\n",
    "    'min_samples_split': [2, 5, 10],\n",
    "    'min_samples_leaf': [1, 2, 4]\n",
    "}\n",
    "\n",
    "grid_search = GridSearchCV(rfc, param_grid, cv=5, n_jobs=-1)\n",
    "grid_search.fit(x_train, y_train)\n",
    "\n",
    "# Print the best hyperparameters\n",
    "print('Best hyperparameters:', grid_search.best_params_)"
   ]
  },
  {
   "cell_type": "code",
   "execution_count": 76,
   "id": "914d4e2e",
   "metadata": {},
   "outputs": [
    {
     "data": {
      "text/html": [
       "<style>#sk-container-id-9 {color: black;background-color: white;}#sk-container-id-9 pre{padding: 0;}#sk-container-id-9 div.sk-toggleable {background-color: white;}#sk-container-id-9 label.sk-toggleable__label {cursor: pointer;display: block;width: 100%;margin-bottom: 0;padding: 0.3em;box-sizing: border-box;text-align: center;}#sk-container-id-9 label.sk-toggleable__label-arrow:before {content: \"▸\";float: left;margin-right: 0.25em;color: #696969;}#sk-container-id-9 label.sk-toggleable__label-arrow:hover:before {color: black;}#sk-container-id-9 div.sk-estimator:hover label.sk-toggleable__label-arrow:before {color: black;}#sk-container-id-9 div.sk-toggleable__content {max-height: 0;max-width: 0;overflow: hidden;text-align: left;background-color: #f0f8ff;}#sk-container-id-9 div.sk-toggleable__content pre {margin: 0.2em;color: black;border-radius: 0.25em;background-color: #f0f8ff;}#sk-container-id-9 input.sk-toggleable__control:checked~div.sk-toggleable__content {max-height: 200px;max-width: 100%;overflow: auto;}#sk-container-id-9 input.sk-toggleable__control:checked~label.sk-toggleable__label-arrow:before {content: \"▾\";}#sk-container-id-9 div.sk-estimator input.sk-toggleable__control:checked~label.sk-toggleable__label {background-color: #d4ebff;}#sk-container-id-9 div.sk-label input.sk-toggleable__control:checked~label.sk-toggleable__label {background-color: #d4ebff;}#sk-container-id-9 input.sk-hidden--visually {border: 0;clip: rect(1px 1px 1px 1px);clip: rect(1px, 1px, 1px, 1px);height: 1px;margin: -1px;overflow: hidden;padding: 0;position: absolute;width: 1px;}#sk-container-id-9 div.sk-estimator {font-family: monospace;background-color: #f0f8ff;border: 1px dotted black;border-radius: 0.25em;box-sizing: border-box;margin-bottom: 0.5em;}#sk-container-id-9 div.sk-estimator:hover {background-color: #d4ebff;}#sk-container-id-9 div.sk-parallel-item::after {content: \"\";width: 100%;border-bottom: 1px solid gray;flex-grow: 1;}#sk-container-id-9 div.sk-label:hover label.sk-toggleable__label {background-color: #d4ebff;}#sk-container-id-9 div.sk-serial::before {content: \"\";position: absolute;border-left: 1px solid gray;box-sizing: border-box;top: 0;bottom: 0;left: 50%;z-index: 0;}#sk-container-id-9 div.sk-serial {display: flex;flex-direction: column;align-items: center;background-color: white;padding-right: 0.2em;padding-left: 0.2em;position: relative;}#sk-container-id-9 div.sk-item {position: relative;z-index: 1;}#sk-container-id-9 div.sk-parallel {display: flex;align-items: stretch;justify-content: center;background-color: white;position: relative;}#sk-container-id-9 div.sk-item::before, #sk-container-id-9 div.sk-parallel-item::before {content: \"\";position: absolute;border-left: 1px solid gray;box-sizing: border-box;top: 0;bottom: 0;left: 50%;z-index: -1;}#sk-container-id-9 div.sk-parallel-item {display: flex;flex-direction: column;z-index: 1;position: relative;background-color: white;}#sk-container-id-9 div.sk-parallel-item:first-child::after {align-self: flex-end;width: 50%;}#sk-container-id-9 div.sk-parallel-item:last-child::after {align-self: flex-start;width: 50%;}#sk-container-id-9 div.sk-parallel-item:only-child::after {width: 0;}#sk-container-id-9 div.sk-dashed-wrapped {border: 1px dashed gray;margin: 0 0.4em 0.5em 0.4em;box-sizing: border-box;padding-bottom: 0.4em;background-color: white;}#sk-container-id-9 div.sk-label label {font-family: monospace;font-weight: bold;display: inline-block;line-height: 1.2em;}#sk-container-id-9 div.sk-label-container {text-align: center;}#sk-container-id-9 div.sk-container {/* jupyter's `normalize.less` sets `[hidden] { display: none; }` but bootstrap.min.css set `[hidden] { display: none !important; }` so we also need the `!important` here to be able to override the default hidden behavior on the sphinx rendered scikit-learn.org. See: https://github.com/scikit-learn/scikit-learn/issues/21755 */display: inline-block !important;position: relative;}#sk-container-id-9 div.sk-text-repr-fallback {display: none;}</style><div id=\"sk-container-id-9\" class=\"sk-top-container\"><div class=\"sk-text-repr-fallback\"><pre>RandomForestClassifier(max_depth=20, min_samples_split=5, n_estimators=50)</pre><b>In a Jupyter environment, please rerun this cell to show the HTML representation or trust the notebook. <br />On GitHub, the HTML representation is unable to render, please try loading this page with nbviewer.org.</b></div><div class=\"sk-container\" hidden><div class=\"sk-item\"><div class=\"sk-estimator sk-toggleable\"><input class=\"sk-toggleable__control sk-hidden--visually\" id=\"sk-estimator-id-9\" type=\"checkbox\" checked><label for=\"sk-estimator-id-9\" class=\"sk-toggleable__label sk-toggleable__label-arrow\">RandomForestClassifier</label><div class=\"sk-toggleable__content\"><pre>RandomForestClassifier(max_depth=20, min_samples_split=5, n_estimators=50)</pre></div></div></div></div></div>"
      ],
      "text/plain": [
       "RandomForestClassifier(max_depth=20, min_samples_split=5, n_estimators=50)"
      ]
     },
     "execution_count": 76,
     "metadata": {},
     "output_type": "execute_result"
    }
   ],
   "source": [
    "# Train the model\n",
    "rfc.fit(x_train, y_train)"
   ]
  },
  {
   "cell_type": "code",
   "execution_count": 125,
   "id": "93558fca",
   "metadata": {},
   "outputs": [
    {
     "name": "stdout",
     "output_type": "stream",
     "text": [
      "Accuracy: 73.03 %\n"
     ]
    },
    {
     "data": {
      "image/png": "[encoded data removed]",
      "text/plain": [
       "<Figure size 640x480 with 2 Axes>"
      ]
     },
     "metadata": {},
     "output_type": "display_data"
    },
    {
     "name": "stdout",
     "output_type": "stream",
     "text": [
      "Classification Report:\n",
      " {'0': {'precision': 0.8428571428571429, 'recall': 0.30256410256410254, 'f1-score': 0.44528301886792454, 'support': 195}, '1': {'precision': 0.7136842105263158, 'recall': 0.9685714285714285, 'f1-score': 0.8218181818181819, 'support': 350}, 'accuracy': 0.7302752293577982, 'macro avg': {'precision': 0.7782706766917293, 'recall': 0.6355677655677655, 'f1-score': 0.6335506003430532, 'support': 545}, 'weighted avg': {'precision': 0.759902048699731, 'recall': 0.7302752293577982, 'f1-score': 0.6870945914047871, 'support': 545}}\n"
     ]
    }
   ],
   "source": [
    "y_pred_rf = rfc.predict(x_test)\n",
    "\n",
    "Accuracy_rf = round((accuracy_score(y_test, y_pred_rf))*100,2)\n",
    "print('Accuracy:', Accuracy_rf,\"%\")\n",
    "\n",
    "confusion = confusion_matrix(y_test, y_pred_rf)\n",
    "\n",
    "\n",
    "sns.heatmap(confusion, annot=True, cmap='Blues', fmt='g')\n",
    "plt.xlabel('Predicted labels')\n",
    "plt.ylabel('True labels')\n",
    "plt.show()\n",
    "\n",
    "report_rf= classification_report(y_test, y_pred_rf, output_dict=True , zero_division=0)\n",
    "print('Classification Report:\\n', report_rf)"
   ]
  },
  {
   "cell_type": "markdown",
   "id": "0427bd78",
   "metadata": {},
   "source": [
    "## SVM <a name='SVM'></a>"
   ]
  },
  {
   "cell_type": "code",
   "execution_count": 81,
   "id": "3f79d657",
   "metadata": {},
   "outputs": [],
   "source": [
    "# Create SVM model\n",
    "model = SVC(kernel='linear')"
   ]
  },
  {
   "cell_type": "code",
   "execution_count": 82,
   "id": "4fe800a0",
   "metadata": {},
   "outputs": [
    {
     "data": {
      "text/html": [
       "<style>#sk-container-id-10 {color: black;background-color: white;}#sk-container-id-10 pre{padding: 0;}#sk-container-id-10 div.sk-toggleable {background-color: white;}#sk-container-id-10 label.sk-toggleable__label {cursor: pointer;display: block;width: 100%;margin-bottom: 0;padding: 0.3em;box-sizing: border-box;text-align: center;}#sk-container-id-10 label.sk-toggleable__label-arrow:before {content: \"▸\";float: left;margin-right: 0.25em;color: #696969;}#sk-container-id-10 label.sk-toggleable__label-arrow:hover:before {color: black;}#sk-container-id-10 div.sk-estimator:hover label.sk-toggleable__label-arrow:before {color: black;}#sk-container-id-10 div.sk-toggleable__content {max-height: 0;max-width: 0;overflow: hidden;text-align: left;background-color: #f0f8ff;}#sk-container-id-10 div.sk-toggleable__content pre {margin: 0.2em;color: black;border-radius: 0.25em;background-color: #f0f8ff;}#sk-container-id-10 input.sk-toggleable__control:checked~div.sk-toggleable__content {max-height: 200px;max-width: 100%;overflow: auto;}#sk-container-id-10 input.sk-toggleable__control:checked~label.sk-toggleable__label-arrow:before {content: \"▾\";}#sk-container-id-10 div.sk-estimator input.sk-toggleable__control:checked~label.sk-toggleable__label {background-color: #d4ebff;}#sk-container-id-10 div.sk-label input.sk-toggleable__control:checked~label.sk-toggleable__label {background-color: #d4ebff;}#sk-container-id-10 input.sk-hidden--visually {border: 0;clip: rect(1px 1px 1px 1px);clip: rect(1px, 1px, 1px, 1px);height: 1px;margin: -1px;overflow: hidden;padding: 0;position: absolute;width: 1px;}#sk-container-id-10 div.sk-estimator {font-family: monospace;background-color: #f0f8ff;border: 1px dotted black;border-radius: 0.25em;box-sizing: border-box;margin-bottom: 0.5em;}#sk-container-id-10 div.sk-estimator:hover {background-color: #d4ebff;}#sk-container-id-10 div.sk-parallel-item::after {content: \"\";width: 100%;border-bottom: 1px solid gray;flex-grow: 1;}#sk-container-id-10 div.sk-label:hover label.sk-toggleable__label {background-color: #d4ebff;}#sk-container-id-10 div.sk-serial::before {content: \"\";position: absolute;border-left: 1px solid gray;box-sizing: border-box;top: 0;bottom: 0;left: 50%;z-index: 0;}#sk-container-id-10 div.sk-serial {display: flex;flex-direction: column;align-items: center;background-color: white;padding-right: 0.2em;padding-left: 0.2em;position: relative;}#sk-container-id-10 div.sk-item {position: relative;z-index: 1;}#sk-container-id-10 div.sk-parallel {display: flex;align-items: stretch;justify-content: center;background-color: white;position: relative;}#sk-container-id-10 div.sk-item::before, #sk-container-id-10 div.sk-parallel-item::before {content: \"\";position: absolute;border-left: 1px solid gray;box-sizing: border-box;top: 0;bottom: 0;left: 50%;z-index: -1;}#sk-container-id-10 div.sk-parallel-item {display: flex;flex-direction: column;z-index: 1;position: relative;background-color: white;}#sk-container-id-10 div.sk-parallel-item:first-child::after {align-self: flex-end;width: 50%;}#sk-container-id-10 div.sk-parallel-item:last-child::after {align-self: flex-start;width: 50%;}#sk-container-id-10 div.sk-parallel-item:only-child::after {width: 0;}#sk-container-id-10 div.sk-dashed-wrapped {border: 1px dashed gray;margin: 0 0.4em 0.5em 0.4em;box-sizing: border-box;padding-bottom: 0.4em;background-color: white;}#sk-container-id-10 div.sk-label label {font-family: monospace;font-weight: bold;display: inline-block;line-height: 1.2em;}#sk-container-id-10 div.sk-label-container {text-align: center;}#sk-container-id-10 div.sk-container {/* jupyter's `normalize.less` sets `[hidden] { display: none; }` but bootstrap.min.css set `[hidden] { display: none !important; }` so we also need the `!important` here to be able to override the default hidden behavior on the sphinx rendered scikit-learn.org. See: https://github.com/scikit-learn/scikit-learn/issues/21755 */display: inline-block !important;position: relative;}#sk-container-id-10 div.sk-text-repr-fallback {display: none;}</style><div id=\"sk-container-id-10\" class=\"sk-top-container\"><div class=\"sk-text-repr-fallback\"><pre>SVC(kernel=&#x27;linear&#x27;)</pre><b>In a Jupyter environment, please rerun this cell to show the HTML representation or trust the notebook. <br />On GitHub, the HTML representation is unable to render, please try loading this page with nbviewer.org.</b></div><div class=\"sk-container\" hidden><div class=\"sk-item\"><div class=\"sk-estimator sk-toggleable\"><input class=\"sk-toggleable__control sk-hidden--visually\" id=\"sk-estimator-id-10\" type=\"checkbox\" checked><label for=\"sk-estimator-id-10\" class=\"sk-toggleable__label sk-toggleable__label-arrow\">SVC</label><div class=\"sk-toggleable__content\"><pre>SVC(kernel=&#x27;linear&#x27;)</pre></div></div></div></div></div>"
      ],
      "text/plain": [
       "SVC(kernel='linear')"
      ]
     },
     "execution_count": 82,
     "metadata": {},
     "output_type": "execute_result"
    }
   ],
   "source": [
    "# Train SVM model on training data\n",
    "model.fit(x_train, y_train)"
   ]
  },
  {
   "cell_type": "code",
   "execution_count": 83,
   "id": "e3d79904",
   "metadata": {},
   "outputs": [],
   "source": [
    "# Make predictions on testing data\n",
    "predictions_SVM = model.predict(x_test)"
   ]
  },
  {
   "cell_type": "code",
   "execution_count": 126,
   "id": "7de6982f",
   "metadata": {},
   "outputs": [
    {
     "name": "stdout",
     "output_type": "stream",
     "text": [
      "Accuracy: 72.66 %\n"
     ]
    },
    {
     "data": {
      "image/png": "[encoded data removed]",
      "text/plain": [
       "<Figure size 640x480 with 2 Axes>"
      ]
     },
     "metadata": {},
     "output_type": "display_data"
    },
    {
     "name": "stdout",
     "output_type": "stream",
     "text": [
      "Classification Report:\n",
      " {'0': {'precision': 0.6742424242424242, 'recall': 0.4564102564102564, 'f1-score': 0.5443425076452599, 'support': 195}, '1': {'precision': 0.7433414043583535, 'recall': 0.8771428571428571, 'f1-score': 0.8047182175622541, 'support': 350}, 'accuracy': 0.726605504587156, 'macro avg': {'precision': 0.7087919143003889, 'recall': 0.6667765567765568, 'f1-score': 0.6745303626037571, 'support': 545}, 'weighted avg': {'precision': 0.7186179160599935, 'recall': 0.726605504587156, 'f1-score': 0.7115562663075499, 'support': 545}}\n"
     ]
    }
   ],
   "source": [
    "# Calculate accuracy and confusion matrix\n",
    "\n",
    "Accuracy_SVM = round((accuracy_score(y_test, predictions_SVM))*100,2)\n",
    "print('Accuracy:', Accuracy_SVM,\"%\")\n",
    "\n",
    "confusion = confusion_matrix(y_test, predictions_SVM)\n",
    "\n",
    "\n",
    "sns.heatmap(confusion, annot=True, cmap='Blues', fmt='g')\n",
    "plt.xlabel('Predicted labels')\n",
    "plt.ylabel('True labels')\n",
    "plt.show()\n",
    "\n",
    "report_SVM = classification_report(y_test, predictions_SVM, output_dict=True , zero_division=0)\n",
    "print('Classification Report:\\n',report_SVM )"
   ]
  },
  {
   "cell_type": "code",
   "execution_count": null,
   "id": "9c7d85bc",
   "metadata": {},
   "outputs": [],
   "source": []
  },
  {
   "cell_type": "markdown",
   "id": "7fbf1e37",
   "metadata": {},
   "source": [
    "# Comparison plot <a name='compare'></a>"
   ]
  },
  {
   "cell_type": "code",
   "execution_count": 177,
   "id": "6412dc92",
   "metadata": {},
   "outputs": [],
   "source": [
    "# Get the recall, precision, and accuracy values for each model\n",
    "recalls = [report_SVC['1']['recall'], report_Logi['1']['recall'], report_XGBoost['1']['recall'], report_rf['1']['recall'], report_SVM['1']['recall']]\n",
    "precisions = [report_SVC['1']['precision'], report_Logi['1']['precision'], report_XGBoost['1']['precision'], report_rf['1']['precision'], report_SVM['1']['precision']]\n",
    "f1_scores = [report_SVC['1']['f1-score'], report_Logi['1']['f1-score'], report_XGBoost['1']['f1-score'], report_rf['1']['f1-score'], report_SVM['1']['f1-score']]\n",
    "accuracies = [Accuracy_SVC, Accuracy_Logi, Accuracy_xgboost, Accuracy_rf, Accuracy_SVM]\n"
   ]
  },
  {
   "cell_type": "code",
   "execution_count": 178,
   "id": "48ee26ee",
   "metadata": {
    "scrolled": false
   },
   "outputs": [
    {
     "data": {
      "image/png": "[encoded data removed]",
      "text/plain": [
       "<Figure size 1500x1100 with 4 Axes>"
      ]
     },
     "metadata": {},
     "output_type": "display_data"
    }
   ],
   "source": [
    "recalls = [x * 100 for x in recalls]\n",
    "precisions = [x * 100 for x in precisions]\n",
    "f1_scores = [x * 100 for x in f1_scores]\n",
    "\n",
    "# Set up the bar graphs\n",
    "fig, ax = plt.subplots(nrows=2, ncols=2, figsize=(15, 11))\n",
    "bar_width = 0.5\n",
    "opacity = 0.8\n",
    "index = np.arange(len(models))\n",
    "\n",
    "# Plot the recall bar graph\n",
    "rec_bar = ax[0,0].bar(index, recalls, bar_width,\n",
    "                 alpha=opacity,\n",
    "                 color='b')\n",
    "ax[0,0].set_xlabel('Model')\n",
    "ax[0,0].set_ylabel('Recall Score')\n",
    "ax[0,0].set_title('Recall')\n",
    "ax[0,0].set_xticks(index)\n",
    "ax[0,0].set_xticklabels(models)\n",
    "ax[0,0].set_ylim([0, 100]) # Set the y-axis range\n",
    "\n",
    "# Add text labels on top of each bar in recall plot\n",
    "for i, v in enumerate(recalls):\n",
    "    ax[0,0].text(i, v, str(round(v,2)) + '%', ha='center', va='bottom')\n",
    "\n",
    "# Plot the precision bar graph\n",
    "prec_bar = ax[0,1].bar(index, precisions, bar_width,\n",
    "                 alpha=opacity,\n",
    "                 color='g')\n",
    "ax[0,1].set_xlabel('Model')\n",
    "ax[0,1].set_ylabel('Precision Score')\n",
    "ax[0,1].set_title('Precision')\n",
    "ax[0,1].set_xticks(index)\n",
    "ax[0,1].set_xticklabels(models)\n",
    "ax[0,1].set_ylim([0, 100]) # Set the y-axis range\n",
    "\n",
    "# Add text labels on top of each bar in precision plot\n",
    "for i, v in enumerate(precisions):\n",
    "    ax[0,1].text(i, v, str(round(v,2)) + '%', ha='center', va='bottom')\n",
    "\n",
    "# Plot the f1-score bar graph\n",
    "f1_bar = ax[1,0].bar(index, f1_scores, bar_width,\n",
    "                 alpha=opacity,\n",
    "                 color='y')\n",
    "ax[1,0].set_xlabel('Model')\n",
    "ax[1,0].set_ylabel('F1_scores')\n",
    "ax[1,0].set_title('F1_scores')\n",
    "ax[1,0].set_xticks(index)\n",
    "ax[1,0].set_xticklabels(models)\n",
    "ax[1,0].set_ylim([0, 100]) # Set the y-axis range\n",
    "\n",
    "# Add text labels on top of each bar in f1-score plot\n",
    "for i, v in enumerate(f1_scores):\n",
    "    ax[1,0].text(i, v, str(round(v,2)) + '%', ha='center', va='bottom')\n",
    "\n",
    "    \n",
    "# Plot the accuracy bar graph\n",
    "acc_bar = ax[1,1].bar(index, accuracies, bar_width,\n",
    "                 alpha=opacity,\n",
    "                 color='r')\n",
    "ax[1,1].set_xlabel('Model')\n",
    "ax[1,1].set_ylabel('Accuracy Score')\n",
    "ax[1,1].set_title('Accuracy')\n",
    "ax[1,1].set_xticks(index)\n",
    "ax[1,1].set_xticklabels(models)\n",
    "\n",
    "# Add text labels on top of each bar in accuracy plot\n",
    "for i, v in enumerate(accuracies):\n",
    "    ax[1,1].text(i, v, str(round(v,2)) + '%', ha='center', va='bottom')\n",
    "\n",
    "plt.tight_layout()\n",
    "plt.show()\n"
   ]
  },
  {
   "cell_type": "code",
   "execution_count": null,
   "id": "31b7ba8a",
   "metadata": {},
   "outputs": [],
   "source": []
  }
 ],
 "metadata": {
  "kernelspec": {
   "display_name": "Python 3 (ipykernel)",
   "language": "python",
   "name": "python3"
  },
  "language_info": {
   "codemirror_mode": {
    "name": "ipython",
    "version": 3
   },
   "file_extension": ".py",
   "mimetype": "text/x-python",
   "name": "python",
   "nbconvert_exporter": "python",
   "pygments_lexer": "ipython3",
   "version": "3.10.4"
  }
 },
 "nbformat": 4,
 "nbformat_minor": 5
}
